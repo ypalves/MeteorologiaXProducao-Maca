{
 "cells": [
  {
   "cell_type": "code",
   "execution_count": 1,
   "metadata": {},
   "outputs": [],
   "source": [
    "# Importação das bibliotecas\n",
    "\n",
    "import cx_Oracle\n",
    "import pandas as pd\n",
    "import unicodedata"
   ]
  },
  {
   "cell_type": "code",
   "execution_count": 2,
   "metadata": {},
   "outputs": [],
   "source": [
    "# Conexão com o banco de dados Oracle, execução da consulta e leitura dos dados\n",
    "\n",
    "uid = \"********\"  # usuário\n",
    "pwd = \"********\"  # senha\n",
    "db = \"*********\"  # string de conexão do Oracle, configurado no\n",
    "# cliente Oracle, arquivo tnsnames.ora\n",
    "\n",
    "connection = cx_Oracle.connect(uid + \"/\" + pwd + \"@\" + db)  # cria a conexão\n",
    "\n",
    "query = \"\"\"select ******* Data_Classificacao, ******* Codigo_Produto, ******* Descricao_Produto,\n",
    "******* Derivacao_Produto, ******* Codigo_Fornecedor, ******** Nome_Fornecedor, sum(*******) Quantidade_KG \n",
    "from ******* a, ******* b, ******* c where ******* between to_date('01/01/2010', 'dd/mm/yyyy') and\n",
    "to_date('31/12/2021', 'dd/mm/yyyy') and ******* in (1, 2, 3, 4, 5, 9673, 1325) and ******* = ******* and\n",
    "******* = ******* and ******* = 1 group by *******, *******, ********, ********, *********,\n",
    "******** order by **********\"\"\" # Consulta que será executada\n",
    "\n",
    "df = pd.read_sql(query, con = connection) # Execução e leitura dos dados retornados pela consulta"
   ]
  },
  {
   "cell_type": "code",
   "execution_count": null,
   "metadata": {},
   "outputs": [],
   "source": [
    "df.head() # Exibição dos dados"
   ]
  },
  {
   "cell_type": "code",
   "execution_count": null,
   "metadata": {},
   "outputs": [],
   "source": [
    "# Geração de uma nova coluna que indica a que safra o registro pertence\n",
    "\n",
    "for index, row in df.iterrows():\n",
    "    df.loc[index, 'SAFRA'] = str(df.loc[index, 'DATA_CLASSIFICACAO'].year)   \n",
    "    \n",
    "df.head() # Exibição dos dados    "
   ]
  },
  {
   "cell_type": "code",
   "execution_count": null,
   "metadata": {},
   "outputs": [],
   "source": [
    "# Geração de uma nova coluna que indica o calibre da fruta, extraído da coluna \"DERIVACAO_PRODUTO\"\n",
    "\n",
    "for index, row in df.iterrows():\n",
    "    if (df.loc[index, 'DERIVACAO_PRODUTO'] != 'GRA/BIN') and (df.loc[index, 'DERIVACAO_PRODUTO'] != 'INDP') and (df.loc[index, 'DERIVACAO_PRODUTO'] != 'INDPP') and (df.loc[index, 'DERIVACAO_PRODUTO'] != 'IND'):\n",
    "        peso_bin, calibre = df.loc[index, 'DERIVACAO_PRODUTO'].split(\"/\")\n",
    "        df.loc[index, 'CALIBRE'] = calibre\n",
    "    else:    \n",
    "        df.loc[index, 'CALIBRE'] = df.loc[index, 'DERIVACAO_PRODUTO']\n",
    "        \n",
    "df.head() # Exibição dos dados"
   ]
  },
  {
   "cell_type": "code",
   "execution_count": null,
   "metadata": {},
   "outputs": [],
   "source": [
    "# Geração de uma nova coluna que indica o agrupamento de tamanho da fruta, extraído da coluna \"CALIBRE\"\n",
    "\n",
    "for index, row in df.iterrows():\n",
    "    if ((df.loc[index, 'CALIBRE'] >= '060') and (df.loc[index, 'CALIBRE'] <= '120')) or (df.loc[index, 'CALIBRE'] == 'G'):\n",
    "        agp_tamanho = 'G'\n",
    "        df.loc[index, 'AGRUPAMENTO_TAMANHO'] = agp_tamanho\n",
    "    elif ((df.loc[index, 'CALIBRE'] >= '135') and (df.loc[index, 'CALIBRE'] <= '165')) or (df.loc[index, 'CALIBRE'] == 'M'):   \n",
    "        agp_tamanho = 'M'\n",
    "        df.loc[index, 'AGRUPAMENTO_TAMANHO'] = agp_tamanho\n",
    "    elif ((df.loc[index, 'CALIBRE'] >= '180') and (df.loc[index, 'CALIBRE'] <= '300')) or (df.loc[index, 'CALIBRE'] == 'P'):\n",
    "        agp_tamanho = 'P'\n",
    "        df.loc[index, 'AGRUPAMENTO_TAMANHO'] = agp_tamanho\n",
    "    elif (df.loc[index, 'CALIBRE'] == 'DVR') or (df.loc[index, 'CALIBRE'] == 'GRA/BIN'):\n",
    "        agp_tamanho = 'OUTROS'\n",
    "        df.loc[index, 'AGRUPAMENTO_TAMANHO'] = agp_tamanho\n",
    "    elif (df.loc[index, 'CALIBRE'] == 'IND') or (df.loc[index, 'CALIBRE'] == 'INDP') or (df.loc[index, 'CALIBRE'] == 'INDPP'):\n",
    "        agp_tamanho = 'IND'\n",
    "        df.loc[index, 'AGRUPAMENTO_TAMANHO'] = agp_tamanho    \n",
    "        \n",
    "df.head() # Exibição dos dados"
   ]
  },
  {
   "cell_type": "code",
   "execution_count": null,
   "metadata": {},
   "outputs": [],
   "source": [
    "# Substituição das informações da coluna NOME_FORNECEDOR de acordo com o nome do pomar a que pertence o registro\n",
    "\n",
    "df.loc[df.CODIGO_FORNECEDOR == 1, 'NOME_FORNECEDOR'] = 'POMAR GERAL'\n",
    "df.loc[df.CODIGO_FORNECEDOR == 2, 'NOME_FORNECEDOR'] = 'POMAR 1'\n",
    "df.loc[df.CODIGO_FORNECEDOR == 3, 'NOME_FORNECEDOR'] = 'POMAR 6'\n",
    "df.loc[df.CODIGO_FORNECEDOR == 4, 'NOME_FORNECEDOR'] = 'POMAR 3'\n",
    "df.loc[df.CODIGO_FORNECEDOR == 5, 'NOME_FORNECEDOR'] = 'POMAR 2'\n",
    "df.loc[df.CODIGO_FORNECEDOR == 1325, 'NOME_FORNECEDOR'] = 'POMAR 4'\n",
    "df.loc[df.CODIGO_FORNECEDOR == 9673, 'NOME_FORNECEDOR'] = 'POMAR 5'\n",
    "\n",
    "df.head() # Exibição dos dados "
   ]
  },
  {
   "cell_type": "code",
   "execution_count": null,
   "metadata": {},
   "outputs": [],
   "source": [
    "# Remoção de caracteres especiais e acentos da descrição dos produtos\n",
    "\n",
    "for index, row in df.iterrows():\n",
    "    processamento = unicodedata.normalize(\"NFD\", df.loc[index, 'DESCRICAO_PRODUTO'])\n",
    "    processamento = processamento.encode(\"ascii\", \"ignore\")\n",
    "    processamento = processamento.decode(\"utf-8\")\n",
    "    df.loc[index, 'DESCRICAO_PRODUTO'] = processamento\n",
    "    \n",
    "df.head() # Exibição dos dados"
   ]
  },
  {
   "cell_type": "code",
   "execution_count": 10,
   "metadata": {},
   "outputs": [
    {
     "name": "stdout",
     "output_type": "stream",
     "text": [
      "<class 'pandas.core.frame.DataFrame'>\n",
      "RangeIndex: 91242 entries, 0 to 91241\n",
      "Data columns (total 10 columns):\n",
      " #   Column               Non-Null Count  Dtype         \n",
      "---  ------               --------------  -----         \n",
      " 0   DATA_CLASSIFICACAO   91242 non-null  datetime64[ns]\n",
      " 1   CODIGO_PRODUTO       91242 non-null  object        \n",
      " 2   DESCRICAO_PRODUTO    91242 non-null  object        \n",
      " 3   DERIVACAO_PRODUTO    91242 non-null  object        \n",
      " 4   CODIGO_FORNECEDOR    91242 non-null  int64         \n",
      " 5   NOME_FORNECEDOR      91242 non-null  object        \n",
      " 6   QUANTIDADE_KG        91242 non-null  float64       \n",
      " 7   SAFRA                91242 non-null  object        \n",
      " 8   CALIBRE              91242 non-null  object        \n",
      " 9   AGRUPAMENTO_TAMANHO  91242 non-null  object        \n",
      "dtypes: datetime64[ns](1), float64(1), int64(1), object(7)\n",
      "memory usage: 4.5+ MB\n"
     ]
    }
   ],
   "source": [
    "df.info() # Visualização do tipo de dados de cada coluna"
   ]
  },
  {
   "cell_type": "code",
   "execution_count": 11,
   "metadata": {},
   "outputs": [],
   "source": [
    "# Exportação dos dados transformados para um arquivo .CSV\n",
    "\n",
    "df.to_csv('C:/Users/*********/Documents/Projetos Jupyter Notebook/TCC - Ciência de Dados/Dados_Produção.csv', sep = ';')"
   ]
  },
  {
   "cell_type": "code",
   "execution_count": null,
   "metadata": {},
   "outputs": [],
   "source": []
  }
 ],
 "metadata": {
  "kernelspec": {
   "display_name": "Python 3",
   "language": "python",
   "name": "python3"
  },
  "language_info": {
   "codemirror_mode": {
    "name": "ipython",
    "version": 3
   },
   "file_extension": ".py",
   "mimetype": "text/x-python",
   "name": "python",
   "nbconvert_exporter": "python",
   "pygments_lexer": "ipython3",
   "version": "3.7.6"
  }
 },
 "nbformat": 4,
 "nbformat_minor": 5
}
